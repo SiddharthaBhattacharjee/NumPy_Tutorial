{
 "cells": [
  {
   "cell_type": "markdown",
   "id": "5566f915-92bd-4973-bcf6-5085d85e1084",
   "metadata": {},
   "source": [
    "# This is The NumPy Tutorial\n",
    "In this file are my notes for Numpy, I have also taken down the key points on my red diary for future references."
   ]
  },
  {
   "cell_type": "code",
   "execution_count": 7,
   "id": "a4b3b768-24c7-4ff8-abff-ba5b2b901f5a",
   "metadata": {},
   "outputs": [],
   "source": [
    "import numpy as np"
   ]
  },
  {
   "cell_type": "markdown",
   "id": "b72bd637-1e34-411d-9ffd-2da97f5d3922",
   "metadata": {},
   "source": [
    "## List VS Numpy\n",
    "Numpy array can do everything a list can and more, for eg:"
   ]
  },
  {
   "cell_type": "code",
   "execution_count": 7,
   "id": "fdcfab05-b446-48f1-a4e5-4ec8d4aa2a8a",
   "metadata": {},
   "outputs": [
    {
     "ename": "TypeError",
     "evalue": "can't multiply sequence by non-int of type 'list'",
     "output_type": "error",
     "traceback": [
      "\u001b[1;31m---------------------------------------------------------------------------\u001b[0m",
      "\u001b[1;31mTypeError\u001b[0m                                 Traceback (most recent call last)",
      "Cell \u001b[1;32mIn[7], line 3\u001b[0m\n\u001b[0;32m      1\u001b[0m list1 \u001b[38;5;241m=\u001b[39m [\u001b[38;5;241m1\u001b[39m,\u001b[38;5;241m2\u001b[39m,\u001b[38;5;241m3\u001b[39m]\n\u001b[0;32m      2\u001b[0m list2 \u001b[38;5;241m=\u001b[39m [\u001b[38;5;241m2\u001b[39m,\u001b[38;5;241m3\u001b[39m,\u001b[38;5;241m4\u001b[39m]\n\u001b[1;32m----> 3\u001b[0m list3 \u001b[38;5;241m=\u001b[39m list1 \u001b[38;5;241m*\u001b[39m list2\n\u001b[0;32m      4\u001b[0m \u001b[38;5;28mprint\u001b[39m(list3)\n",
      "\u001b[1;31mTypeError\u001b[0m: can't multiply sequence by non-int of type 'list'"
     ]
    }
   ],
   "source": [
    "list1 = [1,2,3]\n",
    "list2 = [2,3,4]\n",
    "list3 = list1 * list2\n",
    "print(list3)#will throw error"
   ]
  },
  {
   "cell_type": "code",
   "execution_count": 11,
   "id": "9fac924e-5879-44c1-a228-85aa58d66f85",
   "metadata": {},
   "outputs": [
    {
     "name": "stdout",
     "output_type": "stream",
     "text": [
      "[ 2  6 12]\n"
     ]
    }
   ],
   "source": [
    "arr1 = np.array([1,2,3])\n",
    "arr2 = np.array([2,3,4])\n",
    "arr3 = arr1 * arr2\n",
    "print(arr3) #will work"
   ]
  },
  {
   "cell_type": "markdown",
   "id": "314a1750-1521-456b-abb2-d1477ecf2a0d",
   "metadata": {},
   "source": [
    "### Basics\n",
    "##### Initializing 1D, 2D and 3D arrays:"
   ]
  },
  {
   "cell_type": "code",
   "execution_count": 17,
   "id": "f3917910-f2dd-49a9-a395-7b9f92102d50",
   "metadata": {},
   "outputs": [
    {
     "name": "stdout",
     "output_type": "stream",
     "text": [
      "[1 2 3]\n"
     ]
    }
   ],
   "source": [
    "arr_1d = np.array([1,2,3])\n",
    "print(arr_1d)"
   ]
  },
  {
   "cell_type": "code",
   "execution_count": 21,
   "id": "1107bf1e-052c-4ea0-8018-80d1a0e02ae2",
   "metadata": {},
   "outputs": [
    {
     "name": "stdout",
     "output_type": "stream",
     "text": [
      "[[1.  2.  3. ]\n",
      " [1.5 2.5 3.5]\n",
      " [2.  3.  4. ]]\n"
     ]
    }
   ],
   "source": [
    "arr_2d = np.array([[1.0,2.0,3.0],[1.5,2.5,3.5],[2.0,3.0,4.0]])\n",
    "print(arr_2d)"
   ]
  },
  {
   "cell_type": "code",
   "execution_count": 27,
   "id": "976731f7-ccbe-4d81-898c-9dea903c0cfa",
   "metadata": {},
   "outputs": [
    {
     "name": "stdout",
     "output_type": "stream",
     "text": [
      "[[[1.  2.  3. ]\n",
      "  [4.  5.  6. ]\n",
      "  [7.  8.  9. ]]\n",
      "\n",
      " [[1.1 2.1 3.1]\n",
      "  [4.1 5.1 6.1]\n",
      "  [7.1 8.1 9.1]]\n",
      "\n",
      " [[1.2 2.2 3.2]\n",
      "  [4.2 5.2 6.2]\n",
      "  [7.2 8.2 9.2]]]\n"
     ]
    }
   ],
   "source": [
    "arr_3d = np.array([[[1.0,2.0,3.0],[4.0,5.0,6.0],[7.0,8.0,9.0]],[[1.1,2.1,3.1],[4.1,5.1,6.1],[7.1,8.1,9.1]],[[1.2,2.2,3.2],[4.2,5.2,6.2],[7.2,8.2,9.2]]])\n",
    "print(arr_3d)"
   ]
  },
  {
   "cell_type": "markdown",
   "id": "cb738d81-3047-4b9a-8871-cafc6766151d",
   "metadata": {},
   "source": [
    "##### Get Dimentions of an array:"
   ]
  },
  {
   "cell_type": "code",
   "execution_count": 32,
   "id": "70f20084-daaa-4fa0-9d9c-0ae3f233ddcb",
   "metadata": {},
   "outputs": [
    {
     "data": {
      "text/plain": [
       "1"
      ]
     },
     "execution_count": 32,
     "metadata": {},
     "output_type": "execute_result"
    }
   ],
   "source": [
    "arr_1d.ndim"
   ]
  },
  {
   "cell_type": "code",
   "execution_count": 34,
   "id": "9336992e-9a5b-4481-929b-e84a5444512b",
   "metadata": {},
   "outputs": [
    {
     "data": {
      "text/plain": [
       "2"
      ]
     },
     "execution_count": 34,
     "metadata": {},
     "output_type": "execute_result"
    }
   ],
   "source": [
    "arr_2d.ndim"
   ]
  },
  {
   "cell_type": "code",
   "execution_count": 36,
   "id": "e1ebc130-a4cb-4fd7-b7da-5fedd18affbf",
   "metadata": {},
   "outputs": [
    {
     "data": {
      "text/plain": [
       "3"
      ]
     },
     "execution_count": 36,
     "metadata": {},
     "output_type": "execute_result"
    }
   ],
   "source": [
    "arr_3d.ndim"
   ]
  },
  {
   "cell_type": "markdown",
   "id": "0e0bfc2d-af9e-41ac-a26f-ebaeb3eb08c3",
   "metadata": {},
   "source": [
    "##### Get Shape of an array:"
   ]
  },
  {
   "cell_type": "code",
   "execution_count": 41,
   "id": "d2de6831-7370-4e02-bd84-147532a60864",
   "metadata": {},
   "outputs": [
    {
     "data": {
      "text/plain": [
       "(3,)"
      ]
     },
     "execution_count": 41,
     "metadata": {},
     "output_type": "execute_result"
    }
   ],
   "source": [
    "arr_1d.shape"
   ]
  },
  {
   "cell_type": "code",
   "execution_count": 43,
   "id": "3058b4ec-1627-4925-9a6c-802e1d0ea512",
   "metadata": {},
   "outputs": [
    {
     "data": {
      "text/plain": [
       "(3, 3)"
      ]
     },
     "execution_count": 43,
     "metadata": {},
     "output_type": "execute_result"
    }
   ],
   "source": [
    "arr_2d.shape"
   ]
  },
  {
   "cell_type": "code",
   "execution_count": 45,
   "id": "ddebf62f-e42a-4975-a8d1-72cbbce2c0c5",
   "metadata": {},
   "outputs": [
    {
     "data": {
      "text/plain": [
       "(3, 3, 3)"
      ]
     },
     "execution_count": 45,
     "metadata": {},
     "output_type": "execute_result"
    }
   ],
   "source": [
    "arr_3d.shape"
   ]
  },
  {
   "cell_type": "markdown",
   "id": "5785d311-6712-405a-a685-81d651933a36",
   "metadata": {},
   "source": [
    "##### Specifying and checking datatypes:"
   ]
  },
  {
   "cell_type": "code",
   "execution_count": 48,
   "id": "54613470-fe2f-41b2-897e-1c51d4914b54",
   "metadata": {},
   "outputs": [
    {
     "data": {
      "text/plain": [
       "dtype('int8')"
      ]
     },
     "execution_count": 48,
     "metadata": {},
     "output_type": "execute_result"
    }
   ],
   "source": [
    "arr_1 = np.array([1,2,3], dtype=\"int8\")\n",
    "arr_1.dtype"
   ]
  },
  {
   "cell_type": "code",
   "execution_count": 50,
   "id": "dd2f185a-d78f-42f0-abe3-29a7ac8a8297",
   "metadata": {},
   "outputs": [
    {
     "data": {
      "text/plain": [
       "dtype('float64')"
      ]
     },
     "execution_count": 50,
     "metadata": {},
     "output_type": "execute_result"
    }
   ],
   "source": [
    "arr_2d.dtype"
   ]
  },
  {
   "cell_type": "markdown",
   "id": "066d0483-f518-462e-9473-007946842efb",
   "metadata": {},
   "source": [
    "##### Different Size Retreival"
   ]
  },
  {
   "cell_type": "markdown",
   "id": "7ce51998-2577-4fe3-b217-4603a67df0cf",
   "metadata": {},
   "source": [
    "itemsize : Returns the size of individual items"
   ]
  },
  {
   "cell_type": "code",
   "execution_count": 56,
   "id": "47b3fbdf-d753-48af-9b6b-a0f7fd7a5f94",
   "metadata": {},
   "outputs": [
    {
     "name": "stdout",
     "output_type": "stream",
     "text": [
      "1\n",
      "4\n",
      "8\n"
     ]
    }
   ],
   "source": [
    "print(arr_1.itemsize)\n",
    "print(arr_1d.itemsize)\n",
    "print(arr_2d.itemsize)"
   ]
  },
  {
   "cell_type": "markdown",
   "id": "53abfe60-6dd2-43ae-b621-fa593cd3d9aa",
   "metadata": {},
   "source": [
    "size : Returns number of elements in an array"
   ]
  },
  {
   "cell_type": "code",
   "execution_count": 60,
   "id": "078bac4d-bd65-4aa1-8e7c-66c6a196aad6",
   "metadata": {},
   "outputs": [
    {
     "name": "stdout",
     "output_type": "stream",
     "text": [
      "3\n",
      "9\n"
     ]
    }
   ],
   "source": [
    "print(arr_1.size)\n",
    "print(arr_2d.size)"
   ]
  },
  {
   "cell_type": "markdown",
   "id": "c8806278-6e0b-483a-8a21-fcb82ef93275",
   "metadata": {},
   "source": [
    "nbytes : Returns total number of bytes of an array"
   ]
  },
  {
   "cell_type": "code",
   "execution_count": 63,
   "id": "833d521a-507d-4ade-ae8d-a23e1db2f991",
   "metadata": {},
   "outputs": [
    {
     "name": "stdout",
     "output_type": "stream",
     "text": [
      "3\n",
      "12\n",
      "72\n"
     ]
    }
   ],
   "source": [
    "print(arr_1.nbytes)\n",
    "print(arr_1d.nbytes)\n",
    "print(arr_2d.nbytes)"
   ]
  },
  {
   "cell_type": "markdown",
   "id": "a1ddd349-5f89-4254-9d29-52f963a27cf6",
   "metadata": {},
   "source": [
    "### Accessing Elements from MultiDimentional Array"
   ]
  },
  {
   "cell_type": "code",
   "execution_count": 68,
   "id": "236687c9-9638-41b9-94c0-c6dca45ebd01",
   "metadata": {},
   "outputs": [
    {
     "data": {
      "text/plain": [
       "array([[ 1,  2,  3,  4,  5,  6,  7],\n",
       "       [ 8,  9, 10, 11, 12, 13, 14]])"
      ]
     },
     "execution_count": 68,
     "metadata": {},
     "output_type": "execute_result"
    }
   ],
   "source": [
    "arr_2 = np.array([[1,2,3,4,5,6,7],[8,9,10,11,12,13,14]])\n",
    "arr_2"
   ]
  },
  {
   "cell_type": "markdown",
   "id": "edf631ef-b69c-4675-a323-9b638f8ecdc7",
   "metadata": {},
   "source": [
    "##### Getting Specific Element\n",
    "arr[Row,Col]"
   ]
  },
  {
   "cell_type": "code",
   "execution_count": 78,
   "id": "3f011f21-e5a9-415f-9078-8c43612b527c",
   "metadata": {},
   "outputs": [
    {
     "name": "stdout",
     "output_type": "stream",
     "text": [
      "10\n"
     ]
    },
    {
     "data": {
      "text/plain": [
       "13"
      ]
     },
     "execution_count": 78,
     "metadata": {},
     "output_type": "execute_result"
    }
   ],
   "source": [
    "print(arr_2[1,2])\n",
    "arr_2[-1,-2]"
   ]
  },
  {
   "cell_type": "markdown",
   "id": "1dd8a29b-4528-4077-9aa9-d7728f3f0875",
   "metadata": {},
   "source": [
    "##### Getting an entire row or col\n",
    "arr[Row , :] selects an entire row <br/> \n",
    "arr[: , Col] selects an entire column"
   ]
  },
  {
   "cell_type": "code",
   "execution_count": 82,
   "id": "d6896933-38b6-40a5-bfec-447bd7742188",
   "metadata": {},
   "outputs": [
    {
     "name": "stdout",
     "output_type": "stream",
     "text": [
      "[ 8  9 10 11 12 13 14]\n"
     ]
    }
   ],
   "source": [
    "print(arr_2[1,:]) #Prints 2nd Row"
   ]
  },
  {
   "cell_type": "code",
   "execution_count": 86,
   "id": "717f8e21-18d4-4067-95b8-26e3fbf82567",
   "metadata": {},
   "outputs": [
    {
     "name": "stdout",
     "output_type": "stream",
     "text": [
      "[ 4 11]\n"
     ]
    }
   ],
   "source": [
    "print(arr_2[:,3]) #Prints 4th Column"
   ]
  },
  {
   "cell_type": "markdown",
   "id": "d22830c6-0d89-4a4b-b5c7-94bc265b4193",
   "metadata": {},
   "source": [
    "##### Actual Format of Access:\n",
    "arr[row start:end:step, col start:end:step]"
   ]
  },
  {
   "cell_type": "code",
   "execution_count": 97,
   "id": "46ce769d-5a69-4b8b-a49d-24811fa41553",
   "metadata": {},
   "outputs": [
    {
     "data": {
      "text/plain": [
       "array([[10, 20, 30, 40, 50, 60, 70, 80, 90, 11, 21, 31],\n",
       "       [41, 51, 61, 71, 81, 91, 12, 22, 32, 42, 52, 62],\n",
       "       [42, 52, 62, 72, 82, 92, 13, 23, 33, 43, 53, 63]])"
      ]
     },
     "execution_count": 97,
     "metadata": {},
     "output_type": "execute_result"
    }
   ],
   "source": [
    "arr_3 = np.array([[10,20,30,40,50,60,70,80,90,11,21,31],[41,51,61,71,81,91,12,22,32,42,52,62],[42,52,62,72,82,92,13,23,33,43,53,63]])\n",
    "arr_3"
   ]
  },
  {
   "cell_type": "code",
   "execution_count": 101,
   "id": "9597de7f-9cdb-40ff-89e9-4721810447ed",
   "metadata": {},
   "outputs": [
    {
     "data": {
      "text/plain": [
       "array([[20, 40, 60, 80, 11],\n",
       "       [52, 72, 92, 23, 43]])"
      ]
     },
     "execution_count": 101,
     "metadata": {},
     "output_type": "execute_result"
    }
   ],
   "source": [
    "arr_3[0:3:2,1:-2:2] #selects all rows skipping 1 each time from 0 to 3, selects all columns from the selected rows betweem 1 and -2 skipping 1"
   ]
  },
  {
   "cell_type": "markdown",
   "id": "3b96cbc4-273b-4987-8c95-2541587d2515",
   "metadata": {},
   "source": [
    "### Modifying Array:"
   ]
  },
  {
   "cell_type": "markdown",
   "id": "770cd351-0ffa-4163-9041-bfbce8e94444",
   "metadata": {},
   "source": [
    "##### Simple Modify:"
   ]
  },
  {
   "cell_type": "code",
   "execution_count": 105,
   "id": "c605d80c-c9b6-4637-89f2-dd813334ba62",
   "metadata": {},
   "outputs": [
    {
     "data": {
      "text/plain": [
       "array([[10, 20, 30, 40, 50, 60, 70, 80, 90, 11, 21, 31],\n",
       "       [41, 51, 69, 71, 81, 91, 12, 22, 32, 42, 52, 62],\n",
       "       [42, 52, 62, 72, 82, 92, 13, 23, 33, 43, 53, 63]])"
      ]
     },
     "execution_count": 105,
     "metadata": {},
     "output_type": "execute_result"
    }
   ],
   "source": [
    "arr_3[1,2] = 69 # replaces 62 with 69\n",
    "arr_3"
   ]
  },
  {
   "cell_type": "markdown",
   "id": "4471c9e3-d159-4c2e-9572-860801c5dfd1",
   "metadata": {},
   "source": [
    "##### Sequence Modify:"
   ]
  },
  {
   "cell_type": "code",
   "execution_count": 110,
   "id": "f44bfbf4-326d-4564-b909-bac20f5964fe",
   "metadata": {},
   "outputs": [
    {
     "data": {
      "text/plain": [
       "array([[10, 29, 30, 49, 50, 69, 70, 89, 90, 19, 21, 31],\n",
       "       [41, 51, 69, 71, 81, 91, 12, 22, 32, 42, 52, 62],\n",
       "       [42, 59, 62, 79, 82, 99, 13, 29, 33, 49, 53, 63]])"
      ]
     },
     "execution_count": 110,
     "metadata": {},
     "output_type": "execute_result"
    }
   ],
   "source": [
    "arr_3[0:3:2,1:-2:2] = [[29, 49, 69, 89, 19],[59, 79, 99, 29, 49]]\n",
    "arr_3"
   ]
  },
  {
   "cell_type": "markdown",
   "id": "2340cf61-8d9a-47c3-bb6e-3e569d225b2e",
   "metadata": {},
   "source": [
    "### Various Initialization methods:"
   ]
  },
  {
   "cell_type": "markdown",
   "id": "52b6b2c9-1fd0-4d5f-a11e-3d1ec5392874",
   "metadata": {},
   "source": [
    "##### All Zero Matrix:"
   ]
  },
  {
   "cell_type": "code",
   "execution_count": 119,
   "id": "263c53b1-c530-45c4-a2ae-72042ac4c438",
   "metadata": {},
   "outputs": [
    {
     "data": {
      "text/plain": [
       "array([[0., 0., 0., 0.],\n",
       "       [0., 0., 0., 0.]])"
      ]
     },
     "execution_count": 119,
     "metadata": {},
     "output_type": "execute_result"
    }
   ],
   "source": [
    "np.zeros((2,4))"
   ]
  },
  {
   "cell_type": "markdown",
   "id": "24fe71cd-6906-48aa-ae9c-0484ed3424f7",
   "metadata": {},
   "source": [
    "##### All Ones Matrix:"
   ]
  },
  {
   "cell_type": "code",
   "execution_count": 134,
   "id": "bfb46534-cd6b-4bd1-9303-dd9cb373a372",
   "metadata": {},
   "outputs": [
    {
     "data": {
      "text/plain": [
       "array([[1., 1., 1., 1., 1.],\n",
       "       [1., 1., 1., 1., 1.],\n",
       "       [1., 1., 1., 1., 1.]])"
      ]
     },
     "execution_count": 134,
     "metadata": {},
     "output_type": "execute_result"
    }
   ],
   "source": [
    "om = np.ones((3,5))\n",
    "om"
   ]
  },
  {
   "cell_type": "markdown",
   "id": "8f118b5e-408a-4c28-8c35-10f4d456193a",
   "metadata": {},
   "source": [
    "##### All n Matrix (n=7, Thala for a Reason)"
   ]
  },
  {
   "cell_type": "code",
   "execution_count": 129,
   "id": "772a84e3-3bd0-4122-bf10-8325ad7b97c2",
   "metadata": {},
   "outputs": [
    {
     "data": {
      "text/plain": [
       "array([[7, 7, 7, 7, 7, 7, 7],\n",
       "       [7, 7, 7, 7, 7, 7, 7],\n",
       "       [7, 7, 7, 7, 7, 7, 7],\n",
       "       [7, 7, 7, 7, 7, 7, 7],\n",
       "       [7, 7, 7, 7, 7, 7, 7],\n",
       "       [7, 7, 7, 7, 7, 7, 7],\n",
       "       [7, 7, 7, 7, 7, 7, 7]])"
      ]
     },
     "execution_count": 129,
     "metadata": {},
     "output_type": "execute_result"
    }
   ],
   "source": [
    "np.full((7,7),7) #Thala Matrix"
   ]
  },
  {
   "cell_type": "markdown",
   "id": "09be50f0-77d1-4087-ad54-684be1b2d9e5",
   "metadata": {},
   "source": [
    "##### Make n Matrix by copying shape:"
   ]
  },
  {
   "cell_type": "code",
   "execution_count": 136,
   "id": "b1ce0114-11e2-4141-a730-ed1c9e87dcbe",
   "metadata": {},
   "outputs": [
    {
     "data": {
      "text/plain": [
       "array([[7., 7., 7., 7., 7.],\n",
       "       [7., 7., 7., 7., 7.],\n",
       "       [7., 7., 7., 7., 7.]])"
      ]
     },
     "execution_count": 136,
     "metadata": {},
     "output_type": "execute_result"
    }
   ],
   "source": [
    "np.full_like(om,7)"
   ]
  },
  {
   "cell_type": "markdown",
   "id": "f0d39416-f7f9-4f3c-af72-0a6386e059af",
   "metadata": {},
   "source": [
    "##### Identity matrix of nxn:"
   ]
  },
  {
   "cell_type": "code",
   "execution_count": 139,
   "id": "2310f35a-1ae3-4ed8-885b-45da4c5ef238",
   "metadata": {},
   "outputs": [
    {
     "data": {
      "text/plain": [
       "array([[1., 0., 0., 0., 0.],\n",
       "       [0., 1., 0., 0., 0.],\n",
       "       [0., 0., 1., 0., 0.],\n",
       "       [0., 0., 0., 1., 0.],\n",
       "       [0., 0., 0., 0., 1.]])"
      ]
     },
     "execution_count": 139,
     "metadata": {},
     "output_type": "execute_result"
    }
   ],
   "source": [
    "np.identity(5)"
   ]
  },
  {
   "cell_type": "markdown",
   "id": "c7686e70-6731-4e61-91c9-851f7f04d13a",
   "metadata": {},
   "source": [
    "##### Repeat Matrix:"
   ]
  },
  {
   "cell_type": "code",
   "execution_count": 148,
   "id": "3bf925b0-30f7-43d4-b215-c50c98b941eb",
   "metadata": {},
   "outputs": [
    {
     "data": {
      "text/plain": [
       "array([[1, 2, 3]])"
      ]
     },
     "execution_count": 148,
     "metadata": {},
     "output_type": "execute_result"
    }
   ],
   "source": [
    "a1 = np.array([[1,2,3]])\n",
    "a1"
   ]
  },
  {
   "cell_type": "code",
   "execution_count": 154,
   "id": "1333aa08-068e-437d-8b17-601ccaeda0fc",
   "metadata": {},
   "outputs": [
    {
     "data": {
      "text/plain": [
       "array([1, 1, 1, 2, 2, 2, 3, 3, 3])"
      ]
     },
     "execution_count": 154,
     "metadata": {},
     "output_type": "execute_result"
    }
   ],
   "source": [
    "r1 = np.repeat(a1,3)\n",
    "r1"
   ]
  },
  {
   "cell_type": "code",
   "execution_count": 156,
   "id": "94c1c141-09d5-46b3-af9a-60f961894835",
   "metadata": {},
   "outputs": [
    {
     "data": {
      "text/plain": [
       "array([[1, 2, 3],\n",
       "       [1, 2, 3],\n",
       "       [1, 2, 3]])"
      ]
     },
     "execution_count": 156,
     "metadata": {},
     "output_type": "execute_result"
    }
   ],
   "source": [
    "r2 = np.repeat(a1,3,axis=0)\n",
    "r2"
   ]
  },
  {
   "cell_type": "markdown",
   "id": "760202e3-51c6-447a-85d1-9cf7e4006fbe",
   "metadata": {},
   "source": [
    "##### Random Sample Matrix:"
   ]
  },
  {
   "cell_type": "code",
   "execution_count": 161,
   "id": "4ffb9f44-c58c-492b-9601-1707f0d4bd4e",
   "metadata": {},
   "outputs": [
    {
     "data": {
      "text/plain": [
       "array([[0.71706828, 0.3996607 ],\n",
       "       [0.22776945, 0.7719433 ],\n",
       "       [0.32484539, 0.56902596],\n",
       "       [0.589074  , 0.75179088]])"
      ]
     },
     "execution_count": 161,
     "metadata": {},
     "output_type": "execute_result"
    }
   ],
   "source": [
    "np.random.rand(4,2)"
   ]
  },
  {
   "cell_type": "code",
   "execution_count": 163,
   "id": "d03321d9-dbf4-46d6-8d70-a9d0b23204c5",
   "metadata": {},
   "outputs": [
    {
     "data": {
      "text/plain": [
       "array([[5, 4, 5],\n",
       "       [6, 7, 7],\n",
       "       [6, 5, 5]])"
      ]
     },
     "execution_count": 163,
     "metadata": {},
     "output_type": "execute_result"
    }
   ],
   "source": [
    "np.random.randint(4,8,size=(3,3))"
   ]
  },
  {
   "cell_type": "code",
   "execution_count": 165,
   "id": "00c8bde8-3cee-445d-b778-cb7ab50de91b",
   "metadata": {},
   "outputs": [
    {
     "data": {
      "text/plain": [
       "array([[0.61329205, 0.83677012, 0.52998948, 0.93521466, 0.80722547],\n",
       "       [0.39078922, 0.25091521, 0.72070846, 0.75648034, 0.73454036],\n",
       "       [0.49713436, 0.55792503, 0.49713707, 0.52003602, 0.89134089]])"
      ]
     },
     "execution_count": 165,
     "metadata": {},
     "output_type": "execute_result"
    }
   ],
   "source": [
    "np.random.sample(om.shape)"
   ]
  },
  {
   "cell_type": "markdown",
   "id": "a650f2f3-f998-4b23-9966-a09450465337",
   "metadata": {},
   "source": [
    "### Safe Copy of array:"
   ]
  },
  {
   "cell_type": "markdown",
   "id": "ead83b12-93f0-469f-bfae-d92ec248cfa8",
   "metadata": {},
   "source": [
    "##### Unsafe Method:"
   ]
  },
  {
   "cell_type": "code",
   "execution_count": 173,
   "id": "5c7e1b75-4b55-4462-8df7-3a7f907a7e1c",
   "metadata": {},
   "outputs": [
    {
     "name": "stdout",
     "output_type": "stream",
     "text": [
      "[69  2  3]\n",
      "[69  2  3]\n"
     ]
    }
   ],
   "source": [
    "a = np.array([1,2,3])\n",
    "b = a\n",
    "b[0] = 69\n",
    "print(b)\n",
    "print(a)"
   ]
  },
  {
   "cell_type": "markdown",
   "id": "87cce5a5-d2c7-4cb6-be15-0cd136a82d77",
   "metadata": {},
   "source": [
    "##### Safe Method:"
   ]
  },
  {
   "cell_type": "code",
   "execution_count": 176,
   "id": "f29ceff0-d242-4020-98d4-936be2e786b6",
   "metadata": {},
   "outputs": [
    {
     "name": "stdout",
     "output_type": "stream",
     "text": [
      "[69  2  3]\n",
      "[1 2 3]\n"
     ]
    }
   ],
   "source": [
    "a1 = np.array([1,2,3])\n",
    "b1 = a1.copy()\n",
    "b1[0] = 69\n",
    "print(b1)\n",
    "print(a1)"
   ]
  },
  {
   "cell_type": "markdown",
   "id": "d10bbdb5-447a-4ce5-b2d0-2044f2f91792",
   "metadata": {},
   "source": [
    "### Mathematics in NumPy Arrays:"
   ]
  },
  {
   "cell_type": "markdown",
   "id": "8da70053-ca9b-43b0-9754-3a534046c456",
   "metadata": {},
   "source": [
    "##### Single Array Operations:"
   ]
  },
  {
   "cell_type": "code",
   "execution_count": 11,
   "id": "defa3231-d413-43fb-9fe6-424664a9a40b",
   "metadata": {},
   "outputs": [
    {
     "data": {
      "text/plain": [
       "array([1, 2, 3, 4])"
      ]
     },
     "execution_count": 11,
     "metadata": {},
     "output_type": "execute_result"
    }
   ],
   "source": [
    "a = np.array([1,2,3,4])\n",
    "a"
   ]
  },
  {
   "cell_type": "code",
   "execution_count": 13,
   "id": "d5f0c7a5-7bf7-42c9-9ca2-a6d6d0e53a22",
   "metadata": {},
   "outputs": [
    {
     "data": {
      "text/plain": [
       "array([3, 4, 5, 6])"
      ]
     },
     "execution_count": 13,
     "metadata": {},
     "output_type": "execute_result"
    }
   ],
   "source": [
    "a+2"
   ]
  },
  {
   "cell_type": "code",
   "execution_count": 15,
   "id": "a2627889-eb49-4d39-b0bd-a2aa87be8aa9",
   "metadata": {},
   "outputs": [
    {
     "data": {
      "text/plain": [
       "array([-1,  0,  1,  2])"
      ]
     },
     "execution_count": 15,
     "metadata": {},
     "output_type": "execute_result"
    }
   ],
   "source": [
    "a-2"
   ]
  },
  {
   "cell_type": "code",
   "execution_count": 17,
   "id": "2803502b-066a-4f13-aca9-ffcf9d3ba416",
   "metadata": {},
   "outputs": [
    {
     "data": {
      "text/plain": [
       "array([2, 4, 6, 8])"
      ]
     },
     "execution_count": 17,
     "metadata": {},
     "output_type": "execute_result"
    }
   ],
   "source": [
    "a*2"
   ]
  },
  {
   "cell_type": "code",
   "execution_count": 19,
   "id": "6a6463c0-afa4-4777-b1cc-0d0fc9d24ae3",
   "metadata": {},
   "outputs": [
    {
     "data": {
      "text/plain": [
       "array([0.5, 1. , 1.5, 2. ])"
      ]
     },
     "execution_count": 19,
     "metadata": {},
     "output_type": "execute_result"
    }
   ],
   "source": [
    "a/2"
   ]
  },
  {
   "cell_type": "code",
   "execution_count": 21,
   "id": "f77905d5-dfa3-49d1-9ae3-1a477bc1949b",
   "metadata": {},
   "outputs": [
    {
     "data": {
      "text/plain": [
       "array([0, 1, 1, 2], dtype=int32)"
      ]
     },
     "execution_count": 21,
     "metadata": {},
     "output_type": "execute_result"
    }
   ],
   "source": [
    "a//2"
   ]
  },
  {
   "cell_type": "code",
   "execution_count": 23,
   "id": "c4672670-e4cb-4337-b218-3d126c05dea6",
   "metadata": {},
   "outputs": [
    {
     "data": {
      "text/plain": [
       "array([1, 0, 1, 0], dtype=int32)"
      ]
     },
     "execution_count": 23,
     "metadata": {},
     "output_type": "execute_result"
    }
   ],
   "source": [
    "a%2"
   ]
  },
  {
   "cell_type": "code",
   "execution_count": 25,
   "id": "c171cf84-2dbc-49cf-b807-a98ac41b5809",
   "metadata": {},
   "outputs": [
    {
     "data": {
      "text/plain": [
       "array([ 1,  4,  9, 16])"
      ]
     },
     "execution_count": 25,
     "metadata": {},
     "output_type": "execute_result"
    }
   ],
   "source": [
    "a**2"
   ]
  },
  {
   "cell_type": "code",
   "execution_count": 27,
   "id": "bb4a32cb-d805-4a90-b462-a51d71021fbe",
   "metadata": {},
   "outputs": [
    {
     "data": {
      "text/plain": [
       "array([ 0.84147098,  0.90929743,  0.14112001, -0.7568025 ])"
      ]
     },
     "execution_count": 27,
     "metadata": {},
     "output_type": "execute_result"
    }
   ],
   "source": [
    "np.sin(a)"
   ]
  },
  {
   "cell_type": "code",
   "execution_count": 29,
   "id": "1994efab-1af3-43d0-963d-c8376865bec9",
   "metadata": {},
   "outputs": [
    {
     "data": {
      "text/plain": [
       "array([ 0.54030231, -0.41614684, -0.9899925 , -0.65364362])"
      ]
     },
     "execution_count": 29,
     "metadata": {},
     "output_type": "execute_result"
    }
   ],
   "source": [
    "np.cos(a)"
   ]
  },
  {
   "cell_type": "code",
   "execution_count": 31,
   "id": "1e3fd559-1f5b-490d-9aa5-4e95b9f0054a",
   "metadata": {},
   "outputs": [
    {
     "data": {
      "text/plain": [
       "array([ 1.55740772, -2.18503986, -0.14254654,  1.15782128])"
      ]
     },
     "execution_count": 31,
     "metadata": {},
     "output_type": "execute_result"
    }
   ],
   "source": [
    "np.tan(a)"
   ]
  },
  {
   "cell_type": "code",
   "execution_count": 33,
   "id": "77e7a1d2-5360-4409-a7e2-aae18a329802",
   "metadata": {},
   "outputs": [
    {
     "data": {
      "text/plain": [
       "array([1.        , 1.41421356, 1.73205081, 2.        ])"
      ]
     },
     "execution_count": 33,
     "metadata": {},
     "output_type": "execute_result"
    }
   ],
   "source": [
    "np.sqrt(a)"
   ]
  },
  {
   "cell_type": "markdown",
   "id": "a1445049-c885-48ca-9e31-57270acd77fa",
   "metadata": {},
   "source": [
    "##### 1D arrays Operations:"
   ]
  },
  {
   "cell_type": "code",
   "execution_count": 36,
   "id": "559ea0d1-6df6-42b0-ac19-e165e8d851dc",
   "metadata": {},
   "outputs": [],
   "source": [
    "b = np.array([0,1,0,1])"
   ]
  },
  {
   "cell_type": "code",
   "execution_count": 38,
   "id": "33bd0d41-75e2-44e9-8dbd-bb1482ae3ce6",
   "metadata": {},
   "outputs": [
    {
     "data": {
      "text/plain": [
       "array([1, 2, 3, 4])"
      ]
     },
     "execution_count": 38,
     "metadata": {},
     "output_type": "execute_result"
    }
   ],
   "source": [
    "a"
   ]
  },
  {
   "cell_type": "code",
   "execution_count": 40,
   "id": "bd6e944e-ae04-4505-b7f5-0cc89206dbf6",
   "metadata": {},
   "outputs": [
    {
     "data": {
      "text/plain": [
       "array([0, 1, 0, 1])"
      ]
     },
     "execution_count": 40,
     "metadata": {},
     "output_type": "execute_result"
    }
   ],
   "source": [
    "b"
   ]
  },
  {
   "cell_type": "code",
   "execution_count": 42,
   "id": "fe103970-4514-4ba3-b56e-9cb571381f81",
   "metadata": {},
   "outputs": [
    {
     "data": {
      "text/plain": [
       "array([1, 3, 3, 5])"
      ]
     },
     "execution_count": 42,
     "metadata": {},
     "output_type": "execute_result"
    }
   ],
   "source": [
    "a+b"
   ]
  },
  {
   "cell_type": "code",
   "execution_count": 44,
   "id": "bbac9263-9446-4c12-baea-d27074fbc3ab",
   "metadata": {},
   "outputs": [
    {
     "data": {
      "text/plain": [
       "array([1, 1, 3, 3])"
      ]
     },
     "execution_count": 44,
     "metadata": {},
     "output_type": "execute_result"
    }
   ],
   "source": [
    "a-b"
   ]
  },
  {
   "cell_type": "code",
   "execution_count": 46,
   "id": "b8682ad6-6490-4ed0-b7b4-ab1994e4102c",
   "metadata": {},
   "outputs": [
    {
     "data": {
      "text/plain": [
       "array([0, 2, 0, 4])"
      ]
     },
     "execution_count": 46,
     "metadata": {},
     "output_type": "execute_result"
    }
   ],
   "source": [
    "a*b"
   ]
  },
  {
   "cell_type": "code",
   "execution_count": 48,
   "id": "081c5acb-d044-4030-97b5-0c01d2d2e060",
   "metadata": {},
   "outputs": [
    {
     "name": "stderr",
     "output_type": "stream",
     "text": [
      "C:\\Users\\siddh\\AppData\\Local\\Temp\\ipykernel_19368\\1348051284.py:1: RuntimeWarning: divide by zero encountered in divide\n",
      "  a/b\n"
     ]
    },
    {
     "data": {
      "text/plain": [
       "array([inf,  2., inf,  4.])"
      ]
     },
     "execution_count": 48,
     "metadata": {},
     "output_type": "execute_result"
    }
   ],
   "source": [
    "a/b"
   ]
  },
  {
   "cell_type": "code",
   "execution_count": 50,
   "id": "238a1976-7c83-4eed-8f15-bad1d9e83da3",
   "metadata": {},
   "outputs": [],
   "source": [
    "b = np.array([1,2,1,2])"
   ]
  },
  {
   "cell_type": "code",
   "execution_count": 52,
   "id": "e73606ef-8b70-4ddd-8698-2a74e0d687d9",
   "metadata": {},
   "outputs": [
    {
     "data": {
      "text/plain": [
       "array([1., 1., 3., 2.])"
      ]
     },
     "execution_count": 52,
     "metadata": {},
     "output_type": "execute_result"
    }
   ],
   "source": [
    "a/b"
   ]
  },
  {
   "cell_type": "code",
   "execution_count": 54,
   "id": "8d151084-0796-4281-b158-b0d0eae0db0c",
   "metadata": {},
   "outputs": [
    {
     "data": {
      "text/plain": [
       "array([1, 4, 3, 8])"
      ]
     },
     "execution_count": 54,
     "metadata": {},
     "output_type": "execute_result"
    }
   ],
   "source": [
    "a*b"
   ]
  },
  {
   "cell_type": "code",
   "execution_count": 56,
   "id": "ab65aa6c-2a1d-4920-83c8-a374e7337f89",
   "metadata": {},
   "outputs": [
    {
     "data": {
      "text/plain": [
       "array([ 1,  4,  3, 16])"
      ]
     },
     "execution_count": 56,
     "metadata": {},
     "output_type": "execute_result"
    }
   ],
   "source": [
    "a**b"
   ]
  },
  {
   "cell_type": "code",
   "execution_count": 58,
   "id": "ddd7c22e-fe95-4404-a4ce-1588b1c49310",
   "metadata": {},
   "outputs": [
    {
     "data": {
      "text/plain": [
       "array([1, 1, 3, 2])"
      ]
     },
     "execution_count": 58,
     "metadata": {},
     "output_type": "execute_result"
    }
   ],
   "source": [
    "a//b"
   ]
  },
  {
   "cell_type": "code",
   "execution_count": 60,
   "id": "348be4ba-38ac-411f-8d56-c8104485d97e",
   "metadata": {},
   "outputs": [
    {
     "data": {
      "text/plain": [
       "array([0, 0, 0, 0])"
      ]
     },
     "execution_count": 60,
     "metadata": {},
     "output_type": "execute_result"
    }
   ],
   "source": [
    "a%b"
   ]
  },
  {
   "cell_type": "markdown",
   "id": "2ad897c7-2963-4926-8b61-4460f7203960",
   "metadata": {},
   "source": [
    "##### 2D Arrays Operations:"
   ]
  },
  {
   "cell_type": "code",
   "execution_count": 63,
   "id": "9936a1f3-0d3b-40d3-bf7c-668a870f1abc",
   "metadata": {},
   "outputs": [],
   "source": [
    "c = np.array([[1,2,3],[4,5,6],[7,8,9]])\n",
    "d = np.array([[3,2,1],[6,5,4],[9,8,7]])"
   ]
  },
  {
   "cell_type": "code",
   "execution_count": 65,
   "id": "45b4c55d-975b-49a4-a0c9-f5651be84ded",
   "metadata": {},
   "outputs": [
    {
     "data": {
      "text/plain": [
       "array([[1, 2, 3],\n",
       "       [4, 5, 6],\n",
       "       [7, 8, 9]])"
      ]
     },
     "execution_count": 65,
     "metadata": {},
     "output_type": "execute_result"
    }
   ],
   "source": [
    "c"
   ]
  },
  {
   "cell_type": "code",
   "execution_count": 67,
   "id": "3462835d-aef7-4577-b878-49357ecf4d23",
   "metadata": {},
   "outputs": [
    {
     "data": {
      "text/plain": [
       "array([[3, 2, 1],\n",
       "       [6, 5, 4],\n",
       "       [9, 8, 7]])"
      ]
     },
     "execution_count": 67,
     "metadata": {},
     "output_type": "execute_result"
    }
   ],
   "source": [
    "d"
   ]
  },
  {
   "cell_type": "code",
   "execution_count": 69,
   "id": "979fd67e-5b8d-4b1f-ade6-ee8e7e0ae740",
   "metadata": {},
   "outputs": [
    {
     "data": {
      "text/plain": [
       "array([[ 3,  4,  3],\n",
       "       [24, 25, 24],\n",
       "       [63, 64, 63]])"
      ]
     },
     "execution_count": 69,
     "metadata": {},
     "output_type": "execute_result"
    }
   ],
   "source": [
    "c*d"
   ]
  },
  {
   "cell_type": "code",
   "execution_count": 71,
   "id": "0e464941-d61e-4c0e-87e9-4618e58eb30f",
   "metadata": {},
   "outputs": [
    {
     "data": {
      "text/plain": [
       "array([[ 42,  36,  30],\n",
       "       [ 96,  81,  66],\n",
       "       [150, 126, 102]])"
      ]
     },
     "execution_count": 71,
     "metadata": {},
     "output_type": "execute_result"
    }
   ],
   "source": [
    "np.dot(c,d)"
   ]
  },
  {
   "cell_type": "code",
   "execution_count": 73,
   "id": "5c84003d-edd3-4fb2-a74a-b42b725b2e04",
   "metadata": {},
   "outputs": [
    {
     "data": {
      "text/plain": [
       "array([[ -4,   8,  -4],\n",
       "       [-10,  20, -10],\n",
       "       [-16,  32, -16]])"
      ]
     },
     "execution_count": 73,
     "metadata": {},
     "output_type": "execute_result"
    }
   ],
   "source": [
    "np.cross(c,d)"
   ]
  },
  {
   "cell_type": "code",
   "execution_count": 75,
   "id": "a33a8ffc-95ba-4886-aad7-03fbcdf5e0f9",
   "metadata": {},
   "outputs": [
    {
     "data": {
      "text/plain": [
       "matrix([[1, 2, 3],\n",
       "        [4, 5, 6],\n",
       "        [7, 8, 9]])"
      ]
     },
     "execution_count": 75,
     "metadata": {},
     "output_type": "execute_result"
    }
   ],
   "source": [
    "np.matrix(c)"
   ]
  },
  {
   "cell_type": "code",
   "execution_count": 77,
   "id": "8eea6ac3-0e46-40f9-a013-e1e5ffc8ebc7",
   "metadata": {},
   "outputs": [
    {
     "data": {
      "text/plain": [
       "matrix([[ 42,  36,  30],\n",
       "        [ 96,  81,  66],\n",
       "        [150, 126, 102]])"
      ]
     },
     "execution_count": 77,
     "metadata": {},
     "output_type": "execute_result"
    }
   ],
   "source": [
    "np.matrix(c)*np.matrix(d)"
   ]
  },
  {
   "cell_type": "code",
   "execution_count": 83,
   "id": "ef376374-5ccb-403a-a0d9-05606612d5b9",
   "metadata": {},
   "outputs": [],
   "source": [
    "x = np.array([2,4,8])\n",
    "y = np.array([6,4,2])"
   ]
  },
  {
   "cell_type": "code",
   "execution_count": 85,
   "id": "f1cbf74f-26c9-4557-9dd0-2e2e360502e4",
   "metadata": {},
   "outputs": [
    {
     "data": {
      "text/plain": [
       "array([2, 4, 8])"
      ]
     },
     "execution_count": 85,
     "metadata": {},
     "output_type": "execute_result"
    }
   ],
   "source": [
    "x"
   ]
  },
  {
   "cell_type": "code",
   "execution_count": 87,
   "id": "453dbe50-c2cf-4a98-b892-e8cba2ea2011",
   "metadata": {},
   "outputs": [
    {
     "data": {
      "text/plain": [
       "array([6, 4, 2])"
      ]
     },
     "execution_count": 87,
     "metadata": {},
     "output_type": "execute_result"
    }
   ],
   "source": [
    "y"
   ]
  },
  {
   "cell_type": "code",
   "execution_count": 89,
   "id": "2a563cea-5136-452f-9556-a5976e247a53",
   "metadata": {},
   "outputs": [
    {
     "data": {
      "text/plain": [
       "array([-24,  44, -16])"
      ]
     },
     "execution_count": 89,
     "metadata": {},
     "output_type": "execute_result"
    }
   ],
   "source": [
    "np.cross(x,y)"
   ]
  },
  {
   "cell_type": "code",
   "execution_count": 91,
   "id": "d3196330-2775-4511-9f2f-b6df902a6e6b",
   "metadata": {},
   "outputs": [
    {
     "data": {
      "text/plain": [
       "array([[ 42,  36,  30],\n",
       "       [ 96,  81,  66],\n",
       "       [150, 126, 102]])"
      ]
     },
     "execution_count": 91,
     "metadata": {},
     "output_type": "execute_result"
    }
   ],
   "source": [
    "np.matmul(c,d)"
   ]
  },
  {
   "cell_type": "code",
   "execution_count": 93,
   "id": "fe64a551-b38b-4d3f-97c3-e9a3be1b4d11",
   "metadata": {},
   "outputs": [
    {
     "data": {
      "text/plain": [
       "matrix([[1, 2, 3],\n",
       "        [4, 5, 6],\n",
       "        [7, 8, 9]])"
      ]
     },
     "execution_count": 93,
     "metadata": {},
     "output_type": "execute_result"
    }
   ],
   "source": [
    "z = np.matrix([[1,2,3],[4,5,6],[7,8,9]])\n",
    "z"
   ]
  },
  {
   "cell_type": "code",
   "execution_count": 95,
   "id": "0456575d-bec9-4be1-be46-e53feaeddba5",
   "metadata": {},
   "outputs": [
    {
     "data": {
      "text/plain": [
       "-9.51619735392994e-16"
      ]
     },
     "execution_count": 95,
     "metadata": {},
     "output_type": "execute_result"
    }
   ],
   "source": [
    "np.linalg.det(z)"
   ]
  },
  {
   "cell_type": "code",
   "execution_count": 97,
   "id": "a0ddde82-d9b3-4d1e-b796-33b1771ca519",
   "metadata": {},
   "outputs": [
    {
     "data": {
      "text/plain": [
       "array([[1., 0., 0.],\n",
       "       [0., 1., 0.],\n",
       "       [0., 0., 1.]])"
      ]
     },
     "execution_count": 97,
     "metadata": {},
     "output_type": "execute_result"
    }
   ],
   "source": [
    "i = np.identity(3)\n",
    "i"
   ]
  },
  {
   "cell_type": "code",
   "execution_count": 99,
   "id": "e87201a4-7e77-492e-8064-9b73a91e7286",
   "metadata": {},
   "outputs": [
    {
     "data": {
      "text/plain": [
       "1.0"
      ]
     },
     "execution_count": 99,
     "metadata": {},
     "output_type": "execute_result"
    }
   ],
   "source": [
    "np.linalg.det(i)"
   ]
  },
  {
   "cell_type": "code",
   "execution_count": 101,
   "id": "2f7aebee-fa91-4046-af69-81a78cfe76a8",
   "metadata": {},
   "outputs": [
    {
     "data": {
      "text/plain": [
       "matrix([[ 2,  5,  3],\n",
       "        [ 1,  0,  6],\n",
       "        [ 8, -1,  2]])"
      ]
     },
     "execution_count": 101,
     "metadata": {},
     "output_type": "execute_result"
    }
   ],
   "source": [
    "a1 = np.matrix([[2,5,3],[1,0,6],[8,-1,2]])\n",
    "a1"
   ]
  },
  {
   "cell_type": "code",
   "execution_count": 103,
   "id": "3989656d-cb1a-4c4c-96f7-18138dcedcd9",
   "metadata": {},
   "outputs": [
    {
     "data": {
      "text/plain": [
       "238.99999999999986"
      ]
     },
     "execution_count": 103,
     "metadata": {},
     "output_type": "execute_result"
    }
   ],
   "source": [
    "np.linalg.det(a1)"
   ]
  },
  {
   "cell_type": "markdown",
   "id": "8f4a77e6-cef9-4646-9baa-1cc0ae0ba660",
   "metadata": {},
   "source": [
    "### Aggrigates in NumPy:"
   ]
  },
  {
   "cell_type": "code",
   "execution_count": 107,
   "id": "064a48ea-8745-475a-a464-9d3550f50dc3",
   "metadata": {},
   "outputs": [],
   "source": [
    "s = np.array([[1,2,3],[4,5,6]])"
   ]
  },
  {
   "cell_type": "markdown",
   "id": "706e22c0-a4a1-4f31-b679-3bc845b77e71",
   "metadata": {},
   "source": [
    "##### Min\n",
    "Note: axis = 0 -> column wise ; axis = 1 -> row wise"
   ]
  },
  {
   "cell_type": "code",
   "execution_count": 110,
   "id": "076bed65-7a60-4822-acbc-a8f78b503d6b",
   "metadata": {},
   "outputs": [
    {
     "data": {
      "text/plain": [
       "1"
      ]
     },
     "execution_count": 110,
     "metadata": {},
     "output_type": "execute_result"
    }
   ],
   "source": [
    "np.min(s)"
   ]
  },
  {
   "cell_type": "code",
   "execution_count": 112,
   "id": "c7d19842-3777-4be4-acf3-bbd439c537af",
   "metadata": {},
   "outputs": [
    {
     "data": {
      "text/plain": [
       "array([1, 2, 3])"
      ]
     },
     "execution_count": 112,
     "metadata": {},
     "output_type": "execute_result"
    }
   ],
   "source": [
    "np.min(s,axis=0)"
   ]
  },
  {
   "cell_type": "code",
   "execution_count": 114,
   "id": "d33815a4-ef12-4b90-a9d2-03cfe94db3f6",
   "metadata": {},
   "outputs": [
    {
     "data": {
      "text/plain": [
       "array([1, 4])"
      ]
     },
     "execution_count": 114,
     "metadata": {},
     "output_type": "execute_result"
    }
   ],
   "source": [
    "np.min(s,axis=1)"
   ]
  },
  {
   "cell_type": "markdown",
   "id": "7c743b3e-484e-4133-ad59-cfc891677d21",
   "metadata": {},
   "source": [
    "##### Max"
   ]
  },
  {
   "cell_type": "code",
   "execution_count": 117,
   "id": "70e03f3c-68bb-4985-bcf4-850d8b498d7e",
   "metadata": {},
   "outputs": [
    {
     "data": {
      "text/plain": [
       "6"
      ]
     },
     "execution_count": 117,
     "metadata": {},
     "output_type": "execute_result"
    }
   ],
   "source": [
    "np.max(s)"
   ]
  },
  {
   "cell_type": "code",
   "execution_count": 119,
   "id": "4e2ade16-061a-4116-bc84-aae6d540d32f",
   "metadata": {},
   "outputs": [
    {
     "data": {
      "text/plain": [
       "array([4, 5, 6])"
      ]
     },
     "execution_count": 119,
     "metadata": {},
     "output_type": "execute_result"
    }
   ],
   "source": [
    "np.max(s,axis=0)"
   ]
  },
  {
   "cell_type": "code",
   "execution_count": 121,
   "id": "9591351e-ce91-4ae9-9926-73783c546589",
   "metadata": {},
   "outputs": [
    {
     "data": {
      "text/plain": [
       "array([3, 6])"
      ]
     },
     "execution_count": 121,
     "metadata": {},
     "output_type": "execute_result"
    }
   ],
   "source": [
    "np.max(s,axis=1)"
   ]
  },
  {
   "cell_type": "markdown",
   "id": "e2918b71-9866-4da5-843b-283c49624323",
   "metadata": {},
   "source": [
    "##### Sum"
   ]
  },
  {
   "cell_type": "code",
   "execution_count": 124,
   "id": "e28ae015-b15f-441f-8140-fa986693432a",
   "metadata": {},
   "outputs": [
    {
     "data": {
      "text/plain": [
       "21"
      ]
     },
     "execution_count": 124,
     "metadata": {},
     "output_type": "execute_result"
    }
   ],
   "source": [
    "np.sum(s)"
   ]
  },
  {
   "cell_type": "code",
   "execution_count": 126,
   "id": "20c2aa2c-80aa-423a-842f-12a9fa93b923",
   "metadata": {},
   "outputs": [
    {
     "data": {
      "text/plain": [
       "array([5, 7, 9])"
      ]
     },
     "execution_count": 126,
     "metadata": {},
     "output_type": "execute_result"
    }
   ],
   "source": [
    "np.sum(s,axis=0)"
   ]
  },
  {
   "cell_type": "code",
   "execution_count": 128,
   "id": "d2bbc2cf-4bf7-49ec-9754-0f41335f210a",
   "metadata": {},
   "outputs": [
    {
     "data": {
      "text/plain": [
       "array([ 6, 15])"
      ]
     },
     "execution_count": 128,
     "metadata": {},
     "output_type": "execute_result"
    }
   ],
   "source": [
    "np.sum(s,axis=1)"
   ]
  },
  {
   "cell_type": "markdown",
   "id": "f2707612-d9d5-4955-b7a6-bfbc608e3b04",
   "metadata": {},
   "source": [
    "##### Average"
   ]
  },
  {
   "cell_type": "code",
   "execution_count": 133,
   "id": "fe15838b-2152-4960-8b64-5ee2dd2ad5f9",
   "metadata": {},
   "outputs": [
    {
     "data": {
      "text/plain": [
       "3.5"
      ]
     },
     "execution_count": 133,
     "metadata": {},
     "output_type": "execute_result"
    }
   ],
   "source": [
    "np.average(s)"
   ]
  },
  {
   "cell_type": "code",
   "execution_count": 136,
   "id": "11c418ba-5bf8-4fa6-ac7a-be0c67a757c1",
   "metadata": {},
   "outputs": [
    {
     "data": {
      "text/plain": [
       "array([2.5, 3.5, 4.5])"
      ]
     },
     "execution_count": 136,
     "metadata": {},
     "output_type": "execute_result"
    }
   ],
   "source": [
    "np.average(s,axis=0)"
   ]
  },
  {
   "cell_type": "code",
   "execution_count": 138,
   "id": "54d8522b-96f0-4f89-a75a-2711e95c55ff",
   "metadata": {},
   "outputs": [
    {
     "data": {
      "text/plain": [
       "array([2., 5.])"
      ]
     },
     "execution_count": 138,
     "metadata": {},
     "output_type": "execute_result"
    }
   ],
   "source": [
    "np.average(s,axis=1)"
   ]
  },
  {
   "cell_type": "markdown",
   "id": "8a645823-bda3-49e6-b4bc-5d7a1823958d",
   "metadata": {},
   "source": [
    "##### count"
   ]
  },
  {
   "cell_type": "code",
   "execution_count": 143,
   "id": "54d7cb78-77cc-495c-9fde-8283daef0864",
   "metadata": {},
   "outputs": [
    {
     "data": {
      "text/plain": [
       "6"
      ]
     },
     "execution_count": 143,
     "metadata": {},
     "output_type": "execute_result"
    }
   ],
   "source": [
    "np.size(s)"
   ]
  },
  {
   "cell_type": "code",
   "execution_count": 145,
   "id": "d7c5edd7-28be-47df-98a4-616e43bc5043",
   "metadata": {},
   "outputs": [
    {
     "data": {
      "text/plain": [
       "2"
      ]
     },
     "execution_count": 145,
     "metadata": {},
     "output_type": "execute_result"
    }
   ],
   "source": [
    "np.size(s,axis=0)"
   ]
  },
  {
   "cell_type": "code",
   "execution_count": 147,
   "id": "a5f51f84-9e57-47db-8e7a-a3ef721a0953",
   "metadata": {},
   "outputs": [
    {
     "data": {
      "text/plain": [
       "3"
      ]
     },
     "execution_count": 147,
     "metadata": {},
     "output_type": "execute_result"
    }
   ],
   "source": [
    "np.size(s,axis=1)"
   ]
  },
  {
   "cell_type": "markdown",
   "id": "bcffc192-accb-48d3-8ae3-d16e977cc78d",
   "metadata": {},
   "source": [
    "### Re-Organising Arrays:"
   ]
  },
  {
   "cell_type": "markdown",
   "id": "ecb76514-f207-4d69-9e56-7907f13b20bb",
   "metadata": {},
   "source": [
    "##### ReShape:"
   ]
  },
  {
   "cell_type": "code",
   "execution_count": 151,
   "id": "d9dcd81e-2e52-47d6-9ce5-2ebdd33f33f0",
   "metadata": {},
   "outputs": [
    {
     "data": {
      "text/plain": [
       "array([[1, 2, 3, 4],\n",
       "       [5, 6, 7, 8]])"
      ]
     },
     "execution_count": 151,
     "metadata": {},
     "output_type": "execute_result"
    }
   ],
   "source": [
    "a = np.array([[1,2,3,4],[5,6,7,8]])\n",
    "a"
   ]
  },
  {
   "cell_type": "code",
   "execution_count": 155,
   "id": "88de98ef-0db7-40c2-a216-832396ff8744",
   "metadata": {},
   "outputs": [
    {
     "data": {
      "text/plain": [
       "array([[1, 2],\n",
       "       [3, 4],\n",
       "       [5, 6],\n",
       "       [7, 8]])"
      ]
     },
     "execution_count": 155,
     "metadata": {},
     "output_type": "execute_result"
    }
   ],
   "source": [
    "a.reshape((4,2))"
   ]
  },
  {
   "cell_type": "code",
   "execution_count": 157,
   "id": "d76daf75-da0b-4a68-93f8-712b61c0b661",
   "metadata": {},
   "outputs": [
    {
     "data": {
      "text/plain": [
       "array([[[1, 2],\n",
       "        [3, 4]],\n",
       "\n",
       "       [[5, 6],\n",
       "        [7, 8]]])"
      ]
     },
     "execution_count": 157,
     "metadata": {},
     "output_type": "execute_result"
    }
   ],
   "source": [
    "a.reshape((2,2,2))"
   ]
  },
  {
   "cell_type": "code",
   "execution_count": 163,
   "id": "cf9a2d06-8a49-46af-a802-95daf9ad709b",
   "metadata": {},
   "outputs": [
    {
     "data": {
      "text/plain": [
       "array([[1],\n",
       "       [2],\n",
       "       [3],\n",
       "       [4],\n",
       "       [5],\n",
       "       [6],\n",
       "       [7],\n",
       "       [8]])"
      ]
     },
     "execution_count": 163,
     "metadata": {},
     "output_type": "execute_result"
    }
   ],
   "source": [
    "a.reshape((8,1))"
   ]
  },
  {
   "cell_type": "markdown",
   "id": "d8b26479-eb46-4133-9599-902452fecf4d",
   "metadata": {},
   "source": [
    "##### Vertical Stacking:"
   ]
  },
  {
   "cell_type": "code",
   "execution_count": 168,
   "id": "597f3ce8-ea35-4032-855b-4865571857f2",
   "metadata": {},
   "outputs": [
    {
     "data": {
      "text/plain": [
       "array([1, 2, 3, 4])"
      ]
     },
     "execution_count": 168,
     "metadata": {},
     "output_type": "execute_result"
    }
   ],
   "source": [
    "a = np.array([1,2,3,4])\n",
    "a"
   ]
  },
  {
   "cell_type": "code",
   "execution_count": 172,
   "id": "5f43b6ce-5869-42cc-a25e-189973c0f3b0",
   "metadata": {},
   "outputs": [
    {
     "data": {
      "text/plain": [
       "array([5, 6, 7, 8])"
      ]
     },
     "execution_count": 172,
     "metadata": {},
     "output_type": "execute_result"
    }
   ],
   "source": [
    "b = np.array([5,6,7,8])\n",
    "b"
   ]
  },
  {
   "cell_type": "code",
   "execution_count": 174,
   "id": "70df0d3c-d9f2-477e-8eb4-34b8a83c8191",
   "metadata": {},
   "outputs": [
    {
     "data": {
      "text/plain": [
       "array([[1, 2, 3, 4],\n",
       "       [5, 6, 7, 8]])"
      ]
     },
     "execution_count": 174,
     "metadata": {},
     "output_type": "execute_result"
    }
   ],
   "source": [
    "np.vstack([a,b])"
   ]
  },
  {
   "cell_type": "code",
   "execution_count": 189,
   "id": "ba865a7a-b11f-4ffa-aa79-053a1577b939",
   "metadata": {},
   "outputs": [
    {
     "data": {
      "text/plain": [
       "array([[1, 2, 3, 4],\n",
       "       [5, 6, 7, 8],\n",
       "       [1, 2, 3, 4],\n",
       "       [5, 6, 7, 8]])"
      ]
     },
     "execution_count": 189,
     "metadata": {},
     "output_type": "execute_result"
    }
   ],
   "source": [
    "np.vstack([a,b,a,b])"
   ]
  },
  {
   "cell_type": "markdown",
   "id": "7fb7a4df-b2f5-47f4-9e3c-d8f55292e1ea",
   "metadata": {},
   "source": [
    "##### Horizontal Stack"
   ]
  },
  {
   "cell_type": "code",
   "execution_count": 177,
   "id": "617dafd0-1cfa-4442-a4d2-541c3da5709d",
   "metadata": {},
   "outputs": [
    {
     "data": {
      "text/plain": [
       "array([1, 2, 3, 4, 5, 6, 7, 8])"
      ]
     },
     "execution_count": 177,
     "metadata": {},
     "output_type": "execute_result"
    }
   ],
   "source": [
    "np.hstack([a,b])"
   ]
  },
  {
   "cell_type": "code",
   "execution_count": 181,
   "id": "6a885b5e-5196-4d63-b928-0cb0d59b32a6",
   "metadata": {},
   "outputs": [
    {
     "data": {
      "text/plain": [
       "array([[1, 2, 3],\n",
       "       [4, 5, 6]])"
      ]
     },
     "execution_count": 181,
     "metadata": {},
     "output_type": "execute_result"
    }
   ],
   "source": [
    "c = np.array([[1,2,3],[4,5,6]])\n",
    "c"
   ]
  },
  {
   "cell_type": "code",
   "execution_count": 183,
   "id": "548f8c8b-c3b8-4116-a801-ac5c25b86121",
   "metadata": {},
   "outputs": [
    {
     "data": {
      "text/plain": [
       "array([[11, 21, 31],\n",
       "       [41, 51, 61]])"
      ]
     },
     "execution_count": 183,
     "metadata": {},
     "output_type": "execute_result"
    }
   ],
   "source": [
    "d = np.array([[11,21,31],[41,51,61]])\n",
    "d"
   ]
  },
  {
   "cell_type": "code",
   "execution_count": 185,
   "id": "273de37b-dde2-47ff-bdc3-0bdd11cf6240",
   "metadata": {},
   "outputs": [
    {
     "data": {
      "text/plain": [
       "array([[ 1,  2,  3, 11, 21, 31],\n",
       "       [ 4,  5,  6, 41, 51, 61]])"
      ]
     },
     "execution_count": 185,
     "metadata": {},
     "output_type": "execute_result"
    }
   ],
   "source": [
    "np.hstack([c,d])"
   ]
  },
  {
   "cell_type": "code",
   "execution_count": 187,
   "id": "b894c0c0-1528-4c5f-9b86-7b3e7f363524",
   "metadata": {},
   "outputs": [
    {
     "data": {
      "text/plain": [
       "array([[ 1,  2,  3],\n",
       "       [ 4,  5,  6],\n",
       "       [11, 21, 31],\n",
       "       [41, 51, 61]])"
      ]
     },
     "execution_count": 187,
     "metadata": {},
     "output_type": "execute_result"
    }
   ],
   "source": [
    "np.vstack([c,d])"
   ]
  },
  {
   "cell_type": "markdown",
   "id": "d2d5b159-61ec-4e07-bc3e-f4b854a1496b",
   "metadata": {},
   "source": [
    "### Reading Data From File:"
   ]
  },
  {
   "cell_type": "code",
   "execution_count": 196,
   "id": "212caf53-3b26-4e08-b79f-0b07b77ed745",
   "metadata": {},
   "outputs": [
    {
     "data": {
      "text/plain": [
       "array([[10, 20, 30, 40, 50, 60, 70, 80, 90],\n",
       "       [11, 21, 31, 41, 51, 61, 71, 81, 91],\n",
       "       [12, 22, 32, 42, 52, 62, 72, 82, 92]], dtype=int16)"
      ]
     },
     "execution_count": 196,
     "metadata": {},
     "output_type": "execute_result"
    }
   ],
   "source": [
    "np.genfromtxt('data.txt', delimiter=\",\", dtype=\"int16\")"
   ]
  },
  {
   "cell_type": "markdown",
   "id": "c7a251f0-ae81-4803-bc9d-93cb400777f6",
   "metadata": {},
   "source": [
    "### Type changing:"
   ]
  },
  {
   "cell_type": "code",
   "execution_count": 208,
   "id": "ab2a50ca-9abd-49e6-b5ed-88774ab9813c",
   "metadata": {},
   "outputs": [
    {
     "data": {
      "text/plain": [
       "array([1.5, 2. , 3. ])"
      ]
     },
     "execution_count": 208,
     "metadata": {},
     "output_type": "execute_result"
    }
   ],
   "source": [
    "a = np.array([1.5,2.0,3.0])\n",
    "a"
   ]
  },
  {
   "cell_type": "code",
   "execution_count": 210,
   "id": "9397badf-e009-422c-8871-30952b57d722",
   "metadata": {},
   "outputs": [
    {
     "data": {
      "text/plain": [
       "array([1, 2, 3], dtype=int8)"
      ]
     },
     "execution_count": 210,
     "metadata": {},
     "output_type": "execute_result"
    }
   ],
   "source": [
    "b = a.astype('int8')\n",
    "b"
   ]
  },
  {
   "cell_type": "markdown",
   "id": "afe9e4e6-0965-4268-bfc3-988bd7c061e5",
   "metadata": {},
   "source": [
    "### Boolean Masking:"
   ]
  },
  {
   "cell_type": "code",
   "execution_count": 215,
   "id": "83d8ac44-127f-437c-ab41-70af7a7b769f",
   "metadata": {},
   "outputs": [
    {
     "data": {
      "text/plain": [
       "array([[18,  1, 11,  9, 11, 10,  6,  9, 10],\n",
       "       [16, 16, 19, 12,  3, 12, 15, 14,  8],\n",
       "       [16, 11, 16, 11, 14,  4, 18,  8,  2]])"
      ]
     },
     "execution_count": 215,
     "metadata": {},
     "output_type": "execute_result"
    }
   ],
   "source": [
    "x = np.random.randint(1,20,size=(3,9))\n",
    "x"
   ]
  },
  {
   "cell_type": "code",
   "execution_count": 217,
   "id": "94ae1ffe-5d12-466a-a8ab-6f838354e130",
   "metadata": {},
   "outputs": [
    {
     "data": {
      "text/plain": [
       "array([[ True, False,  True, False,  True, False, False, False, False],\n",
       "       [ True,  True,  True,  True, False,  True,  True,  True, False],\n",
       "       [ True,  True,  True,  True,  True, False,  True, False, False]])"
      ]
     },
     "execution_count": 217,
     "metadata": {},
     "output_type": "execute_result"
    }
   ],
   "source": [
    "x > 10"
   ]
  },
  {
   "cell_type": "code",
   "execution_count": 225,
   "id": "c6718579-41d5-4442-990b-1de283e30b83",
   "metadata": {},
   "outputs": [
    {
     "data": {
      "text/plain": [
       "array([18, 11, 11, 16, 16, 19, 12, 12, 15, 14, 16, 11, 16, 11, 14, 18])"
      ]
     },
     "execution_count": 225,
     "metadata": {},
     "output_type": "execute_result"
    }
   ],
   "source": [
    "x[x>10]"
   ]
  },
  {
   "cell_type": "code",
   "execution_count": 227,
   "id": "0743a4a4-ee43-44cc-b23b-259e89199814",
   "metadata": {},
   "outputs": [
    {
     "data": {
      "text/plain": [
       "array([False,  True,  True, False, False, False,  True,  True, False,\n",
       "        True, False,  True, False,  True,  True, False])"
      ]
     },
     "execution_count": 227,
     "metadata": {},
     "output_type": "execute_result"
    }
   ],
   "source": [
    "x[x>10] < 15"
   ]
  },
  {
   "cell_type": "code",
   "execution_count": 231,
   "id": "b5016c3b-be6d-4cd0-bbd7-ebe8f8f05faf",
   "metadata": {},
   "outputs": [
    {
     "data": {
      "text/plain": [
       "array([11, 11, 12, 12, 14, 11, 11, 14])"
      ]
     },
     "execution_count": 231,
     "metadata": {},
     "output_type": "execute_result"
    }
   ],
   "source": [
    "x[x>10][x[x>10]<15]"
   ]
  },
  {
   "cell_type": "code",
   "execution_count": 261,
   "id": "e372f97b-5ab7-472c-ba84-22528fbf730e",
   "metadata": {},
   "outputs": [
    {
     "data": {
      "text/plain": [
       "array([[False, False,  True, False,  True, False, False, False, False],\n",
       "       [False, False, False,  True, False,  True, False,  True, False],\n",
       "       [False,  True, False,  True,  True, False, False, False, False]])"
      ]
     },
     "execution_count": 261,
     "metadata": {},
     "output_type": "execute_result"
    }
   ],
   "source": [
    "((x>10) & (x<15))"
   ]
  },
  {
   "cell_type": "code",
   "execution_count": 263,
   "id": "740177c2-803b-43fa-ac87-1d96f4325e7c",
   "metadata": {},
   "outputs": [
    {
     "data": {
      "text/plain": [
       "array([11, 11, 12, 12, 14, 11, 11, 14])"
      ]
     },
     "execution_count": 263,
     "metadata": {},
     "output_type": "execute_result"
    }
   ],
   "source": [
    "x[((x>10) & (x<15))]"
   ]
  },
  {
   "cell_type": "code",
   "execution_count": 265,
   "id": "e8b19dee-dd90-474d-8c13-2e1abc209bd4",
   "metadata": {},
   "outputs": [
    {
     "data": {
      "text/plain": [
       "array([18,  1,  9, 10,  6,  9, 10, 16, 16, 19,  3, 15,  8, 16, 16,  4, 18,\n",
       "        8,  2])"
      ]
     },
     "execution_count": 265,
     "metadata": {},
     "output_type": "execute_result"
    }
   ],
   "source": [
    "x[~((x>10) & (x<15))]"
   ]
  },
  {
   "cell_type": "markdown",
   "id": "2a460798-64e3-43c9-b5ae-5cc7203aac9c",
   "metadata": {},
   "source": [
    "### List Index passing:"
   ]
  },
  {
   "cell_type": "code",
   "execution_count": 236,
   "id": "d8c691b4-e83f-4991-8262-4da4f05fbbb8",
   "metadata": {},
   "outputs": [
    {
     "data": {
      "text/plain": [
       "array([2, 5, 7])"
      ]
     },
     "execution_count": 236,
     "metadata": {},
     "output_type": "execute_result"
    }
   ],
   "source": [
    "a = np.array([1,2,3,4,5,6,7,8,9])\n",
    "a[[1,4,6]] # A list of required index can be passed to acces the specific elements in the form of an array"
   ]
  },
  {
   "cell_type": "markdown",
   "id": "4586bf51-70e7-4277-af2b-8fdbd77bbfd6",
   "metadata": {},
   "source": [
    "### Any Checker:"
   ]
  },
  {
   "cell_type": "code",
   "execution_count": 240,
   "id": "b1e26ef1-e144-4d04-9dd7-124113d46e47",
   "metadata": {},
   "outputs": [
    {
     "data": {
      "text/plain": [
       "array([[11, 12,  9,  7,  5],\n",
       "       [ 6,  5,  8, 13, 10]])"
      ]
     },
     "execution_count": 240,
     "metadata": {},
     "output_type": "execute_result"
    }
   ],
   "source": [
    "a = np.array([[11,12,9,7,5],[6,5,8,13,10]])\n",
    "a"
   ]
  },
  {
   "cell_type": "code",
   "execution_count": 242,
   "id": "d2526396-e055-48b4-b31e-adb7ac96c6cf",
   "metadata": {},
   "outputs": [
    {
     "data": {
      "text/plain": [
       "True"
      ]
     },
     "execution_count": 242,
     "metadata": {},
     "output_type": "execute_result"
    }
   ],
   "source": [
    "np.any(a>10)"
   ]
  },
  {
   "cell_type": "code",
   "execution_count": 244,
   "id": "7b55e2af-058a-496c-8574-4996ca2dba13",
   "metadata": {},
   "outputs": [
    {
     "data": {
      "text/plain": [
       "False"
      ]
     },
     "execution_count": 244,
     "metadata": {},
     "output_type": "execute_result"
    }
   ],
   "source": [
    "np.any(a>20)"
   ]
  },
  {
   "cell_type": "code",
   "execution_count": 246,
   "id": "d8f14ecf-4949-4110-8af9-5f4b9cefe693",
   "metadata": {},
   "outputs": [
    {
     "data": {
      "text/plain": [
       "array([ True,  True, False,  True, False])"
      ]
     },
     "execution_count": 246,
     "metadata": {},
     "output_type": "execute_result"
    }
   ],
   "source": [
    "np.any(a>10,axis=0) #col wise"
   ]
  },
  {
   "cell_type": "code",
   "execution_count": 248,
   "id": "b9705d08-37f1-49dd-bcf0-002f23517ee8",
   "metadata": {},
   "outputs": [
    {
     "data": {
      "text/plain": [
       "array([False,  True])"
      ]
     },
     "execution_count": 248,
     "metadata": {},
     "output_type": "execute_result"
    }
   ],
   "source": [
    "np.any(a>12, axis=1) #row wise"
   ]
  },
  {
   "cell_type": "markdown",
   "id": "389c50d2-ce60-4997-8c03-5fad292ada49",
   "metadata": {},
   "source": [
    "### All Checker:"
   ]
  },
  {
   "cell_type": "code",
   "execution_count": 251,
   "id": "a6f39005-e05e-4924-9c17-b92553b1df10",
   "metadata": {},
   "outputs": [
    {
     "data": {
      "text/plain": [
       "False"
      ]
     },
     "execution_count": 251,
     "metadata": {},
     "output_type": "execute_result"
    }
   ],
   "source": [
    "np.all(a>10)"
   ]
  },
  {
   "cell_type": "code",
   "execution_count": 253,
   "id": "92bf4cb2-d18f-4daa-812e-71c31db94ec3",
   "metadata": {},
   "outputs": [
    {
     "data": {
      "text/plain": [
       "True"
      ]
     },
     "execution_count": 253,
     "metadata": {},
     "output_type": "execute_result"
    }
   ],
   "source": [
    "np.all(a>2)"
   ]
  },
  {
   "cell_type": "code",
   "execution_count": 255,
   "id": "10db57fe-324b-4ee5-868c-ceb204d8fa93",
   "metadata": {},
   "outputs": [
    {
     "data": {
      "text/plain": [
       "array([False, False,  True,  True, False])"
      ]
     },
     "execution_count": 255,
     "metadata": {},
     "output_type": "execute_result"
    }
   ],
   "source": [
    "np.all(a>6, axis=0)"
   ]
  },
  {
   "cell_type": "code",
   "execution_count": 257,
   "id": "443b5821-2ed6-4157-be8f-207657988ef6",
   "metadata": {},
   "outputs": [
    {
     "data": {
      "text/plain": [
       "array([False, False])"
      ]
     },
     "execution_count": 257,
     "metadata": {},
     "output_type": "execute_result"
    }
   ],
   "source": [
    "np.all(a>5, axis=1)"
   ]
  },
  {
   "cell_type": "code",
   "execution_count": 259,
   "id": "d02edf2d-9b9a-4d88-a458-76f6597bd479",
   "metadata": {},
   "outputs": [
    {
     "data": {
      "text/plain": [
       "array([ True,  True])"
      ]
     },
     "execution_count": 259,
     "metadata": {},
     "output_type": "execute_result"
    }
   ],
   "source": [
    "np.all(a>2, axis=1)"
   ]
  },
  {
   "cell_type": "markdown",
   "id": "933ca10f-4fb1-4c24-a3f2-33a907db7d14",
   "metadata": {},
   "source": [
    "### Practice Problem:\n",
    "Given the following Matrix:"
   ]
  },
  {
   "cell_type": "code",
   "execution_count": 268,
   "id": "e7034478-d9a4-4a96-930f-9ba22303efc6",
   "metadata": {},
   "outputs": [
    {
     "data": {
      "text/plain": [
       "array([[ 1,  2,  3,  4,  5],\n",
       "       [ 6,  7,  8,  9, 10],\n",
       "       [11, 12, 13, 14, 15],\n",
       "       [16, 17, 18, 19, 20],\n",
       "       [21, 22, 23, 24, 25],\n",
       "       [26, 27, 28, 29, 30]])"
      ]
     },
     "execution_count": 268,
     "metadata": {},
     "output_type": "execute_result"
    }
   ],
   "source": [
    "M = np.array([[1,2,3,4,5],\n",
    "              [6,7,8,9,10],\n",
    "              [11,12,13,14,15],\n",
    "              [16,17,18,19,20],\n",
    "              [21,22,23,24,25],\n",
    "              [26,27,28,29,30]])\n",
    "M"
   ]
  },
  {
   "cell_type": "markdown",
   "id": "66af793e-186a-417b-b692-ab59210e224c",
   "metadata": {},
   "source": [
    "##### Q1: Index [[11,12],[15,17]] from M"
   ]
  },
  {
   "cell_type": "code",
   "execution_count": 271,
   "id": "00d4e80b-7b15-4bca-99cb-a743bed99903",
   "metadata": {},
   "outputs": [
    {
     "data": {
      "text/plain": [
       "array([[11, 12],\n",
       "       [16, 17]])"
      ]
     },
     "execution_count": 271,
     "metadata": {},
     "output_type": "execute_result"
    }
   ],
   "source": [
    "M[2:4:1,0:2:1]"
   ]
  },
  {
   "cell_type": "markdown",
   "id": "78281ead-4546-4e97-8f5a-c8b0d3e33e57",
   "metadata": {},
   "source": [
    "##### Q2: Index [2,8,14,20] from M"
   ]
  },
  {
   "cell_type": "code",
   "execution_count": 298,
   "id": "df2911e0-0fcd-48ff-86e0-ab1898c346ed",
   "metadata": {},
   "outputs": [
    {
     "data": {
      "text/plain": [
       "array([ 2,  8, 14, 20])"
      ]
     },
     "execution_count": 298,
     "metadata": {},
     "output_type": "execute_result"
    }
   ],
   "source": [
    "M.reshape((1,30))[0,1:20:6]"
   ]
  },
  {
   "cell_type": "code",
   "execution_count": 300,
   "id": "1064c698-4b17-47da-9872-81b131c96011",
   "metadata": {},
   "outputs": [
    {
     "data": {
      "text/plain": [
       "array([ 2,  8, 14, 20])"
      ]
     },
     "execution_count": 300,
     "metadata": {},
     "output_type": "execute_result"
    }
   ],
   "source": [
    "M[[0,1,2,3],[1,2,3,4]]"
   ]
  },
  {
   "cell_type": "markdown",
   "id": "ee29212a-0107-4395-8599-286a1bb27384",
   "metadata": {},
   "source": [
    "##### Q3: Index [4,5,24,25,29,30] from M"
   ]
  },
  {
   "cell_type": "code",
   "execution_count": 328,
   "id": "6760babf-cf33-470b-b293-2516bc7ad62e",
   "metadata": {},
   "outputs": [
    {
     "data": {
      "text/plain": [
       "array([[ 4,  5],\n",
       "       [24, 25],\n",
       "       [29, 30]])"
      ]
     },
     "execution_count": 328,
     "metadata": {},
     "output_type": "execute_result"
    }
   ],
   "source": [
    "M[[0,4,5]][:,3:5]"
   ]
  },
  {
   "cell_type": "code",
   "execution_count": 330,
   "id": "1d1cadfa-503c-49a0-b053-050088f1035a",
   "metadata": {},
   "outputs": [
    {
     "data": {
      "text/plain": [
       "array([[ 4,  5],\n",
       "       [24, 25],\n",
       "       [29, 30]])"
      ]
     },
     "execution_count": 330,
     "metadata": {},
     "output_type": "execute_result"
    }
   ],
   "source": [
    "M[[0,4,5],3:5]"
   ]
  },
  {
   "cell_type": "code",
   "execution_count": null,
   "id": "4b369093-d096-4e32-b9b0-82ee5fa0b6a6",
   "metadata": {},
   "outputs": [],
   "source": []
  }
 ],
 "metadata": {
  "kernelspec": {
   "display_name": "Python 3 (ipykernel)",
   "language": "python",
   "name": "python3"
  },
  "language_info": {
   "codemirror_mode": {
    "name": "ipython",
    "version": 3
   },
   "file_extension": ".py",
   "mimetype": "text/x-python",
   "name": "python",
   "nbconvert_exporter": "python",
   "pygments_lexer": "ipython3",
   "version": "3.12.4"
  }
 },
 "nbformat": 4,
 "nbformat_minor": 5
}
